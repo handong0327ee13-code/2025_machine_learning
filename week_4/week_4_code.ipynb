{
  "cells": [
    {
      "cell_type": "code",
      "source": [
        "from google.colab import drive\n",
        "drive.mount('/content/drive')"
      ],
      "metadata": {
        "id": "CK0XOToOs1_F",
        "outputId": "729e05a7-fac3-41db-d9c2-74e455a1c191",
        "colab": {
          "base_uri": "https://localhost:8080/"
        }
      },
      "execution_count": 22,
      "outputs": [
        {
          "output_type": "stream",
          "name": "stdout",
          "text": [
            "Drive already mounted at /content/drive; to attempt to forcibly remount, call drive.mount(\"/content/drive\", force_remount=True).\n"
          ]
        }
      ]
    },
    {
      "cell_type": "markdown",
      "source": [
        "(1) 資料轉換"
      ],
      "metadata": {
        "id": "WPd7tVYUtHjG"
      }
    },
    {
      "cell_type": "code",
      "source": [
        "%%writefile dataset_preprocessing.py\n",
        "import xml.etree.ElementTree as ET\n",
        "import numpy as np\n",
        "import re\n",
        "\n",
        "def load_dataset(xml_file):\n",
        "    # 讀取 XML\n",
        "    tree = ET.parse(xml_file)\n",
        "    root = tree.getroot()\n",
        "    ns = {\"cwa\": \"urn:cwa:gov:tw:cwacommon:0.1\"}\n",
        "    content_text = root.find(\".//cwa:Content\", ns).text.strip()\n",
        "\n",
        "    # 抓所有浮點數 (科學記號格式，例如 -999.0E+00)\n",
        "    values = [float(v) for v in re.findall(r\"[-+]?\\d+\\.\\d+E[+-]\\d+\", content_text)]\n",
        "\n",
        "    # 格點大小：120 × 67 = 8040\n",
        "    data = np.array(values).reshape(120, 67)\n",
        "\n",
        "    # 經緯度範圍\n",
        "    lon = np.linspace(120.00, 121.98, 67)   # 東經\n",
        "    lat = np.linspace(21.88, 25.45, 120)   # 北緯\n",
        "    lon_grid, lat_grid = np.meshgrid(lon, lat)\n",
        "\n",
        "    # 展平成一維\n",
        "    X = np.column_stack([lon_grid.ravel(), lat_grid.ravel()])\n",
        "    y = data.ravel()\n",
        "\n",
        "    # (a) 分類資料集：label = 0 (無效值 -999), 1 (有效值)\n",
        "    labels = (y != -999.0) * 1\n",
        "    data_cla = np.column_stack([X, labels])\n",
        "\n",
        "    # (b) 回歸資料集：只保留有效值\n",
        "    mask = y != -999.0\n",
        "    X_reg = X[mask]\n",
        "    y_reg = y[mask]\n",
        "    data_reg = np.column_stack([X_reg, y_reg])\n",
        "\n",
        "    # ====== 檢查輸出 ======\n",
        "    print(\"總資料筆數:\", len(y))\n",
        "    print(\"\\n[分類資料集範例] (lon, lat, label)\")\n",
        "    print(data_cla[:5])\n",
        "    print(\"\\n[回歸資料集範例] (lon, lat, value)\")\n",
        "    print(data_reg[:5])\n",
        "    print(\"\\n分類資料集大小:\", data_cla.shape)\n",
        "    print(\"回歸資料集大小:\", data_reg.shape)\n",
        "\n",
        "    return data_cla, data_reg\n",
        "\n",
        "# ✅ 呼叫測試\n",
        "data_cla, data_reg = load_dataset(\"/content/drive/MyDrive/Colab Notebooks/O-A0038-003.xml\")\n"
      ],
      "metadata": {
        "id": "79J1TsCMs4ed",
        "outputId": "cd0731e4-62f9-4b34-d460-3dec7a122fc8",
        "colab": {
          "base_uri": "https://localhost:8080/"
        }
      },
      "execution_count": 23,
      "outputs": [
        {
          "output_type": "stream",
          "name": "stdout",
          "text": [
            "Writing dataset_preprocessing.py\n"
          ]
        }
      ]
    },
    {
      "cell_type": "markdown",
      "source": [
        "(2a) 分類模型"
      ],
      "metadata": {
        "id": "WbCsS81AtLPD"
      }
    },
    {
      "cell_type": "code",
      "source": [
        "from dataset_preprocessing import load_dataset\n",
        "from sklearn.model_selection import train_test_split\n",
        "from sklearn.ensemble import RandomForestClassifier\n",
        "from sklearn.metrics import accuracy_score, classification_report\n",
        "from sklearn.preprocessing import StandardScaler\n",
        "\n",
        "# ===== 讀取分類資料集 =====\n",
        "data_cla, _ = load_dataset(\"/content/drive/MyDrive/Colab Notebooks/O-A0038-003.xml\")\n",
        "\n",
        "# 特徵與標籤\n",
        "X = data_cla[:, :2].astype(float)   # (lon, lat)\n",
        "y = data_cla[:, 2].astype(int)      # label (0 or 1)\n",
        "\n",
        "# 標準化（對 Random Forest 不是必要，但加上也OK）\n",
        "scaler = StandardScaler()\n",
        "X = scaler.fit_transform(X)\n",
        "\n",
        "# 切分訓練/測試集 (80% / 20%)\n",
        "X_train, X_test, y_train, y_test = train_test_split(\n",
        "    X, y, test_size=0.2, random_state=42\n",
        ")\n",
        "\n",
        "# ===== 建立 Random Forest 模型 =====\n",
        "clf = RandomForestClassifier(\n",
        "    n_estimators=200,    # 樹的數量\n",
        "    max_depth=None,      # 不限制樹深\n",
        "    random_state=42\n",
        ")\n",
        "clf.fit(X_train, y_train)\n",
        "\n",
        "# ===== 評估模型 =====\n",
        "y_pred = clf.predict(X_test)\n",
        "acc = accuracy_score(y_test, y_pred)\n",
        "\n",
        "print(\"✅ Random Forest 分類模型準確率:\", acc)\n",
        "print(\"\\n分類報告:\")\n",
        "print(classification_report(y_test, y_pred, digits=3))\n"
      ],
      "metadata": {
        "id": "WOf1fIittB3_",
        "outputId": "d6da6791-140f-4a90-99a0-eb6f9e522c09",
        "colab": {
          "base_uri": "https://localhost:8080/"
        }
      },
      "execution_count": 24,
      "outputs": [
        {
          "output_type": "stream",
          "name": "stdout",
          "text": [
            "總資料筆數: 8040\n",
            "\n",
            "[分類資料集範例] (lon, lat, label)\n",
            "[[120.    21.88   0.  ]\n",
            " [120.03  21.88   0.  ]\n",
            " [120.06  21.88   0.  ]\n",
            " [120.09  21.88   0.  ]\n",
            " [120.12  21.88   0.  ]]\n",
            "\n",
            "[回歸資料集範例] (lon, lat, value)\n",
            "[[120.84  21.94  28.1 ]\n",
            " [120.72  21.97  28.6 ]\n",
            " [120.75  21.97  28.6 ]\n",
            " [120.78  21.97  27.8 ]\n",
            " [120.81  21.97  26.5 ]]\n",
            "\n",
            "分類資料集大小: (8040, 3)\n",
            "回歸資料集大小: (3495, 3)\n",
            "總資料筆數: 8040\n",
            "\n",
            "[分類資料集範例] (lon, lat, label)\n",
            "[[120.    21.88   0.  ]\n",
            " [120.03  21.88   0.  ]\n",
            " [120.06  21.88   0.  ]\n",
            " [120.09  21.88   0.  ]\n",
            " [120.12  21.88   0.  ]]\n",
            "\n",
            "[回歸資料集範例] (lon, lat, value)\n",
            "[[120.84  21.94  28.1 ]\n",
            " [120.72  21.97  28.6 ]\n",
            " [120.75  21.97  28.6 ]\n",
            " [120.78  21.97  27.8 ]\n",
            " [120.81  21.97  26.5 ]]\n",
            "\n",
            "分類資料集大小: (8040, 3)\n",
            "回歸資料集大小: (3495, 3)\n",
            "✅ Random Forest 分類模型準確率: 0.9819651741293532\n",
            "\n",
            "分類報告:\n",
            "              precision    recall  f1-score   support\n",
            "\n",
            "           0      0.978     0.991     0.985       929\n",
            "           1      0.988     0.969     0.978       679\n",
            "\n",
            "    accuracy                          0.982      1608\n",
            "   macro avg      0.983     0.980     0.981      1608\n",
            "weighted avg      0.982     0.982     0.982      1608\n",
            "\n"
          ]
        }
      ]
    },
    {
      "cell_type": "markdown",
      "source": [
        "(2b) 回歸模型"
      ],
      "metadata": {
        "id": "YG3NcTYDtOlo"
      }
    },
    {
      "cell_type": "code",
      "source": [
        "from dataset_preprocessing import load_dataset\n",
        "from sklearn.model_selection import train_test_split\n",
        "from sklearn.ensemble import RandomForestRegressor\n",
        "from sklearn.metrics import mean_squared_error, r2_score\n",
        "from sklearn.preprocessing import StandardScaler\n",
        "import numpy as np\n",
        "\n",
        "# ===== 讀取回歸資料集 =====\n",
        "_, data_reg = load_dataset(\"/content/drive/MyDrive/Colab Notebooks/O-A0038-003.xml\")\n",
        "\n",
        "# 特徵與目標值\n",
        "X = data_reg[:, :2].astype(float)   # (lon, lat)\n",
        "y = data_reg[:, 2].astype(float)    # 溫度值 (°C)\n",
        "\n",
        "# 標準化 (提升模型效果，尤其對於經緯度數值差異大時)\n",
        "scaler = StandardScaler()\n",
        "X = scaler.fit_transform(X)\n",
        "\n",
        "# 切分訓練/測試集 (80% / 20%)\n",
        "X_train, X_test, y_train, y_test = train_test_split(\n",
        "    X, y, test_size=0.2, random_state=42\n",
        ")\n",
        "\n",
        "# ===== 建立 Random Forest Regressor =====\n",
        "reg = RandomForestRegressor(\n",
        "    n_estimators=200,    # 樹的數量\n",
        "    max_depth=None,      # 不限制樹深\n",
        "    random_state=42\n",
        ")\n",
        "reg.fit(X_train, y_train)\n",
        "\n",
        "# ===== 評估模型 =====\n",
        "y_pred = reg.predict(X_test)\n",
        "\n",
        "mse = mean_squared_error(y_test, y_pred)\n",
        "rmse = np.sqrt(mse)\n",
        "r2 = r2_score(y_test, y_pred)\n",
        "\n",
        "print(\"✅ Random Forest 回歸模型\")\n",
        "print(\"MSE :\", mse)\n",
        "print(\"RMSE:\", rmse)\n",
        "print(\"R²  :\", r2)\n"
      ],
      "metadata": {
        "id": "eFS08lS-tDqZ",
        "outputId": "cb429f3b-75b8-4532-a0e3-39678f60cb8c",
        "colab": {
          "base_uri": "https://localhost:8080/"
        }
      },
      "execution_count": 25,
      "outputs": [
        {
          "output_type": "stream",
          "name": "stdout",
          "text": [
            "總資料筆數: 8040\n",
            "\n",
            "[分類資料集範例] (lon, lat, label)\n",
            "[[120.    21.88   0.  ]\n",
            " [120.03  21.88   0.  ]\n",
            " [120.06  21.88   0.  ]\n",
            " [120.09  21.88   0.  ]\n",
            " [120.12  21.88   0.  ]]\n",
            "\n",
            "[回歸資料集範例] (lon, lat, value)\n",
            "[[120.84  21.94  28.1 ]\n",
            " [120.72  21.97  28.6 ]\n",
            " [120.75  21.97  28.6 ]\n",
            " [120.78  21.97  27.8 ]\n",
            " [120.81  21.97  26.5 ]]\n",
            "\n",
            "分類資料集大小: (8040, 3)\n",
            "回歸資料集大小: (3495, 3)\n",
            "✅ Random Forest 回歸模型\n",
            "MSE : 4.8137069242207176\n",
            "RMSE: 2.1940161631630515\n",
            "R²  : 0.8580994551680236\n"
          ]
        }
      ]
    }
  ],
  "metadata": {
    "colab": {
      "name": "歡迎使用 Colab",
      "provenance": []
    },
    "kernelspec": {
      "display_name": "Python 3",
      "name": "python3"
    }
  },
  "nbformat": 4,
  "nbformat_minor": 0
}